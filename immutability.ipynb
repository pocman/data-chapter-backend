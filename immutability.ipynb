{
 "cells": [
  {
   "cell_type": "markdown",
   "id": "graphic-sandwich",
   "metadata": {},
   "source": [
    "# Immutabilty in Python\n",
    "An immutable object (unchangeable object) is an object whose state cannot be modified after it is created.\n",
    "Coding with immutable object is usually safer and easier to reason about."
   ]
  },
  {
   "cell_type": "markdown",
   "id": "thirty-knight",
   "metadata": {},
   "source": [
    "## Frozen Dataclass\n",
    "Dataclasses were introduces in Python 3.7. It's the last attempts to define classes which exist primarily to store values which are accessible by attribute lookup.\n",
    "\n",
    "Here is how to use it in an immutable way:"
   ]
  },
  {
   "cell_type": "code",
   "execution_count": 31,
   "id": "specified-printer",
   "metadata": {},
   "outputs": [],
   "source": [
    "import math\n",
    "from dataclasses import dataclass\n",
    "from dataclasses import replace\n",
    "from typing import Optional\n",
    "\n",
    "\n",
    "@dataclass(frozen=True)\n",
    "class Features:\n",
    "    overlap_distance: float\n",
    "    main_segment_price: float\n",
    "    multiplier: float\n",
    "    st_segment_price: Optional[float] = None\n"
   ]
  },
  {
   "cell_type": "code",
   "execution_count": 32,
   "id": "silent-convergence",
   "metadata": {},
   "outputs": [],
   "source": [
    "# input features\n",
    "request_features = Features(0.4, 10.0, 1.2)\n",
    "\n",
    "# We engineer a new feature\n",
    "st_segment_price=math.floor(request.main_segment_price * request.overlap_distance * request.multiplier)"
   ]
  },
  {
   "cell_type": "code",
   "execution_count": 33,
   "id": "collaborative-enhancement",
   "metadata": {
    "scrolled": true
   },
   "outputs": [
    {
     "ename": "FrozenInstanceError",
     "evalue": "cannot assign to field 'st_segment_price'",
     "output_type": "error",
     "traceback": [
      "\u001b[0;31m---------------------------------------------------------------------------\u001b[0m",
      "\u001b[0;31mFrozenInstanceError\u001b[0m                       Traceback (most recent call last)",
      "\u001b[0;32m<ipython-input-33-6442933b7d93>\u001b[0m in \u001b[0;36m<module>\u001b[0;34m\u001b[0m\n\u001b[1;32m      1\u001b[0m \u001b[0;31m# Can't update a frozen dataclass\u001b[0m\u001b[0;34m\u001b[0m\u001b[0;34m\u001b[0m\u001b[0;34m\u001b[0m\u001b[0m\n\u001b[0;32m----> 2\u001b[0;31m \u001b[0mrequest_features\u001b[0m\u001b[0;34m.\u001b[0m\u001b[0mst_segment_price\u001b[0m \u001b[0;34m=\u001b[0m \u001b[0mst_segment_price\u001b[0m\u001b[0;34m\u001b[0m\u001b[0;34m\u001b[0m\u001b[0m\n\u001b[0m",
      "\u001b[0;32m<string>\u001b[0m in \u001b[0;36m__setattr__\u001b[0;34m(self, name, value)\u001b[0m\n",
      "\u001b[0;31mFrozenInstanceError\u001b[0m: cannot assign to field 'st_segment_price'"
     ]
    }
   ],
   "source": [
    "# Can't update a frozen dataclass\n",
    "request_features.st_segment_price = st_segment_price"
   ]
  },
  {
   "cell_type": "code",
   "execution_count": 34,
   "id": "potential-laser",
   "metadata": {},
   "outputs": [],
   "source": [
    "# Creates a new Features object, replacing fields with values from changes.\n",
    "engineered_features = replace(request_features, st_segment_price=st_segment_price)"
   ]
  },
  {
   "cell_type": "code",
   "execution_count": 35,
   "id": "involved-producer",
   "metadata": {},
   "outputs": [
    {
     "name": "stdout",
     "output_type": "stream",
     "text": [
      "Features(overlap_distance=0.4, main_segment_price=10.0, multiplier=1.2, st_segment_price=None)\n",
      "Features(overlap_distance=0.4, main_segment_price=10.0, multiplier=1.2, st_segment_price=4)\n"
     ]
    }
   ],
   "source": [
    "# request_features is unchanged\n",
    "print(request_features)\n",
    "print(engineered_features)"
   ]
  }
 ],
 "metadata": {
  "kernelspec": {
   "display_name": "Python 3",
   "language": "python",
   "name": "python3"
  },
  "language_info": {
   "codemirror_mode": {
    "name": "ipython",
    "version": 3
   },
   "file_extension": ".py",
   "mimetype": "text/x-python",
   "name": "python",
   "nbconvert_exporter": "python",
   "pygments_lexer": "ipython3",
   "version": "3.8.5"
  }
 },
 "nbformat": 4,
 "nbformat_minor": 5
}
