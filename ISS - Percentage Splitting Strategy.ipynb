{
 "cells": [
  {
   "cell_type": "code",
   "execution_count": 55,
   "id": "effective-reception",
   "metadata": {},
   "outputs": [
    {
     "data": {
      "image/png": "[encoded data removed]",
      "text/plain": [
       "<Figure size 432x288 with 1 Axes>"
      ]
     },
     "metadata": {
      "needs_background": "light"
     },
     "output_type": "display_data"
    }
   ],
   "source": [
    "import random, uuid\n",
    "import numpy as np\n",
    "import matplotlib.pyplot as plt\n",
    "\n",
    "values = []\n",
    "for i in range(100000):\n",
    "    seed = uuid.uuid4()\n",
    "    random.seed('aa'+str(seed))\n",
    "    values.append(random.random())\n",
    "    \n",
    "a = np.hstack(values)\n",
    "_ = plt.hist(a, bins=100)   "
   ]
  },
  {
   "cell_type": "code",
   "execution_count": 56,
   "id": "sorted-murder",
   "metadata": {},
   "outputs": [
    {
     "data": {
      "image/png": "[encoded data removed]",
      "text/plain": [
       "<Figure size 432x288 with 1 Axes>"
      ]
     },
     "metadata": {
      "needs_background": "light"
     },
     "output_type": "display_data"
    }
   ],
   "source": [
    "values = []\n",
    "for i in range(100000):\n",
    "    seed = uuid.uuid4()\n",
    "    random.seed('aa'+str(seed))\n",
    "    values.append(random.randrange(100))\n",
    "    \n",
    "a = np.hstack(values)\n",
    "_ = plt.hist(a, bins=100)   "
   ]
  },
  {
   "cell_type": "code",
   "execution_count": null,
   "id": "alert-newman",
   "metadata": {},
   "outputs": [],
   "source": []
  }
 ],
 "metadata": {
  "kernelspec": {
   "display_name": "Python 3",
   "language": "python",
   "name": "python3"
  },
  "language_info": {
   "codemirror_mode": {
    "name": "ipython",
    "version": 3
   },
   "file_extension": ".py",
   "mimetype": "text/x-python",
   "name": "python",
   "nbconvert_exporter": "python",
   "pygments_lexer": "ipython3",
   "version": "3.8.5"
  }
 },
 "nbformat": 4,
 "nbformat_minor": 5
}
